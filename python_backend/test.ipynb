{
 "cells": [
  {
   "cell_type": "code",
   "execution_count": 3,
   "metadata": {},
   "outputs": [],
   "source": [
    "import grpc\n",
    "import sys\n",
    "import grpc\n",
    "\n",
    "# Add the generated directory to the Python path\n",
    "sys.path.append('./generated')\n",
    "\n",
    "import telemetry_pb2\n",
    "import telemetry_pb2_grpc\n"
   ]
  },
  {
   "cell_type": "code",
   "execution_count": 4,
   "metadata": {},
   "outputs": [],
   "source": [
    "channel = grpc.insecure_channel('localhost:8000')\n",
    "stub = telemetry_pb2_grpc.TelemetryServiceStub(channel)\n",
    "\n",
    "memory_request = telemetry_pb2.MemoryRequest()\n",
    "\n"
   ]
  },
  {
   "cell_type": "code",
   "execution_count": 5,
   "metadata": {},
   "outputs": [],
   "source": [
    "response = stub.SendMemoryInfo(memory_request)"
   ]
  },
  {
   "cell_type": "code",
   "execution_count": 10,
   "metadata": {},
   "outputs": [],
   "source": [
    "import json"
   ]
  },
  {
   "cell_type": "code",
   "execution_count": 11,
   "metadata": {},
   "outputs": [],
   "source": [
    "from google.protobuf.json_format import MessageToJson"
   ]
  },
  {
   "cell_type": "code",
   "execution_count": 12,
   "metadata": {},
   "outputs": [],
   "source": [
    "json_response = MessageToJson(response)"
   ]
  },
  {
   "cell_type": "code",
   "execution_count": 13,
   "metadata": {},
   "outputs": [],
   "source": [
    "parsed = json.loads(json_response)"
   ]
  },
  {
   "cell_type": "code",
   "execution_count": 14,
   "metadata": {},
   "outputs": [
    {
     "data": {
      "text/plain": [
       "{'freeMemory': 26235798000.0,\n",
       " 'usedMemory': 7337865000.0,\n",
       " 'totalMemory': 33573663000.0}"
      ]
     },
     "execution_count": 14,
     "metadata": {},
     "output_type": "execute_result"
    }
   ],
   "source": [
    "parsed"
   ]
  },
  {
   "cell_type": "code",
   "execution_count": 15,
   "metadata": {},
   "outputs": [
    {
     "data": {
      "text/plain": [
       "25620896.484375"
      ]
     },
     "execution_count": 15,
     "metadata": {},
     "output_type": "execute_result"
    }
   ],
   "source": [
    "parsed['freeMemory'] / 1024"
   ]
  },
  {
   "cell_type": "code",
   "execution_count": 16,
   "metadata": {},
   "outputs": [],
   "source": [
    "distro_request = telemetry_pb2.DistroRequest()"
   ]
  },
  {
   "cell_type": "code",
   "execution_count": 17,
   "metadata": {},
   "outputs": [],
   "source": [
    "response = stub.SendDistroInfo(distro_request)"
   ]
  },
  {
   "cell_type": "code",
   "execution_count": 18,
   "metadata": {},
   "outputs": [],
   "source": [
    "json_response = MessageToJson(response)"
   ]
  },
  {
   "cell_type": "code",
   "execution_count": 19,
   "metadata": {},
   "outputs": [
    {
     "data": {
      "text/plain": [
       "{'distro': 'linuxmint',\n",
       " 'cpuArch': 'x86_64',\n",
       " 'coreCount': 8,\n",
       " 'distroVer': 'Linux (Linux Mint 22.1)'}"
      ]
     },
     "execution_count": 19,
     "metadata": {},
     "output_type": "execute_result"
    }
   ],
   "source": [
    "json_response\n",
    "parsed = json.loads(json_response)\n",
    "parsed"
   ]
  },
  {
   "cell_type": "code",
   "execution_count": 20,
   "metadata": {},
   "outputs": [
    {
     "name": "stdout",
     "output_type": "stream",
     "text": [
      "{'freeMemory': 26103767000.0, 'usedMemory': 7469895700.0, 'totalMemory': 33573663000.0}\n"
     ]
    },
    {
     "ename": "KeyboardInterrupt",
     "evalue": "",
     "output_type": "error",
     "traceback": [
      "\u001b[31m---------------------------------------------------------------------------\u001b[39m",
      "\u001b[31mKeyboardInterrupt\u001b[39m                         Traceback (most recent call last)",
      "\u001b[36mCell\u001b[39m\u001b[36m \u001b[39m\u001b[32mIn[20]\u001b[39m\u001b[32m, line 9\u001b[39m\n\u001b[32m      7\u001b[39m     parsed = json.loads(json_response)\n\u001b[32m      8\u001b[39m     \u001b[38;5;28mprint\u001b[39m(parsed)\n\u001b[32m----> \u001b[39m\u001b[32m9\u001b[39m     \u001b[43mtime\u001b[49m\u001b[43m.\u001b[49m\u001b[43msleep\u001b[49m\u001b[43m(\u001b[49m\u001b[32;43m5\u001b[39;49m\u001b[43m)\u001b[49m\n\u001b[32m     10\u001b[39m \u001b[38;5;28;01mexcept\u001b[39;00m grpc.RpcError \u001b[38;5;28;01mas\u001b[39;00m e:\n\u001b[32m     11\u001b[39m     \u001b[38;5;28mprint\u001b[39m(\u001b[33mf\u001b[39m\u001b[33m\"\u001b[39m\u001b[33mgRPC error: \u001b[39m\u001b[38;5;132;01m{\u001b[39;00me.code()\u001b[38;5;132;01m}\u001b[39;00m\u001b[33m: \u001b[39m\u001b[38;5;132;01m{\u001b[39;00me.details()\u001b[38;5;132;01m}\u001b[39;00m\u001b[33m\"\u001b[39m)\n",
      "\u001b[31mKeyboardInterrupt\u001b[39m: "
     ]
    }
   ],
   "source": [
    "import time\n",
    "\n",
    "while True:\n",
    "    try:\n",
    "        response = stub.SendMemoryInfo(memory_request)\n",
    "        json_response = MessageToJson(response)\n",
    "        parsed = json.loads(json_response)\n",
    "        print(parsed)\n",
    "        time.sleep(5)\n",
    "    except grpc.RpcError as e:\n",
    "        print(f\"gRPC error: {e.code()}: {e.details()}\")\n",
    "        break"
   ]
  },
  {
   "cell_type": "code",
   "execution_count": null,
   "metadata": {},
   "outputs": [],
   "source": [
    "def get_data():\n",
    "    # get gRPC server port\n",
    "    channel = grpc.insecure_channel('localhost:8000')\n",
    "    # get stub defined in proto file\n",
    "    stub = telemetry_pb2_grpc.TelemetryServiceStub(channel)\n",
    "\n",
    "    # get distro info\n",
    "    distro_request = telemetry_pb2.DistroRequest()\n",
    "\n",
    "    # send distro info request\n",
    "    dist_response = stub.SendDistroInfo(distro_request)\n",
    "    # convert response to json\n",
    "    json_dist_response= MessageToJson(dist_response)\n",
    "    # parse json response\n",
    "    parsed_dist_response = json.loads(json_dist_response)\n",
    "\n",
    "    # create memory request object from generated proto file\n",
    "    memory_request = telemetry_pb2.MemoryRequest()\n",
    "\n",
    "    # loop through and get memory info every 5 seconds\n",
    "    while True:\n",
    "        try:\n",
    "            response = stub.SendMemoryInfo(memory_request)\n",
    "            json_response = MessageToJson(response)\n",
    "            parsed = json.loads(json_response)\n",
    "            print(parsed)\n",
    "            time.sleep(5)\n",
    "        except grpc.RpcError as e:\n",
    "            print(f\"gRPC error: {e.code()}: {e.details()}\")\n",
    "            break\n",
    "\n"
   ]
  },
  {
   "cell_type": "code",
   "execution_count": 22,
   "metadata": {},
   "outputs": [
    {
     "name": "stdout",
     "output_type": "stream",
     "text": [
      "{'freeMemory': 26071101000.0, 'usedMemory': 7502561300.0, 'totalMemory': 33573663000.0}\n",
      "{'freeMemory': 26105827000.0, 'usedMemory': 7467835400.0, 'totalMemory': 33573663000.0}\n",
      "{'freeMemory': 26114470000.0, 'usedMemory': 7459193000.0, 'totalMemory': 33573663000.0}\n",
      "{'freeMemory': 26096214000.0, 'usedMemory': 7477448700.0, 'totalMemory': 33573663000.0}\n"
     ]
    },
    {
     "ename": "KeyboardInterrupt",
     "evalue": "",
     "output_type": "error",
     "traceback": [
      "\u001b[31m---------------------------------------------------------------------------\u001b[39m",
      "\u001b[31mKeyboardInterrupt\u001b[39m                         Traceback (most recent call last)",
      "\u001b[36mCell\u001b[39m\u001b[36m \u001b[39m\u001b[32mIn[22]\u001b[39m\u001b[32m, line 1\u001b[39m\n\u001b[32m----> \u001b[39m\u001b[32m1\u001b[39m data = \u001b[43mget_data\u001b[49m\u001b[43m(\u001b[49m\u001b[43m)\u001b[49m\n",
      "\u001b[36mCell\u001b[39m\u001b[36m \u001b[39m\u001b[32mIn[21]\u001b[39m\u001b[32m, line 27\u001b[39m, in \u001b[36mget_data\u001b[39m\u001b[34m()\u001b[39m\n\u001b[32m     25\u001b[39m     parsed = json.loads(json_response)\n\u001b[32m     26\u001b[39m     \u001b[38;5;28mprint\u001b[39m(parsed)\n\u001b[32m---> \u001b[39m\u001b[32m27\u001b[39m     \u001b[43mtime\u001b[49m\u001b[43m.\u001b[49m\u001b[43msleep\u001b[49m\u001b[43m(\u001b[49m\u001b[32;43m5\u001b[39;49m\u001b[43m)\u001b[49m\n\u001b[32m     28\u001b[39m \u001b[38;5;28;01mexcept\u001b[39;00m grpc.RpcError \u001b[38;5;28;01mas\u001b[39;00m e:\n\u001b[32m     29\u001b[39m     \u001b[38;5;28mprint\u001b[39m(\u001b[33mf\u001b[39m\u001b[33m\"\u001b[39m\u001b[33mgRPC error: \u001b[39m\u001b[38;5;132;01m{\u001b[39;00me.code()\u001b[38;5;132;01m}\u001b[39;00m\u001b[33m: \u001b[39m\u001b[38;5;132;01m{\u001b[39;00me.details()\u001b[38;5;132;01m}\u001b[39;00m\u001b[33m\"\u001b[39m)\n",
      "\u001b[31mKeyboardInterrupt\u001b[39m: "
     ]
    }
   ],
   "source": [
    "data = get_data()"
   ]
  },
  {
   "cell_type": "code",
   "execution_count": null,
   "metadata": {},
   "outputs": [],
   "source": []
  },
  {
   "cell_type": "code",
   "execution_count": null,
   "metadata": {},
   "outputs": [],
   "source": []
  }
 ],
 "metadata": {
  "kernelspec": {
   "display_name": ".venv",
   "language": "python",
   "name": "python3"
  },
  "language_info": {
   "codemirror_mode": {
    "name": "ipython",
    "version": 3
   },
   "file_extension": ".py",
   "mimetype": "text/x-python",
   "name": "python",
   "nbconvert_exporter": "python",
   "pygments_lexer": "ipython3",
   "version": "3.12.3"
  }
 },
 "nbformat": 4,
 "nbformat_minor": 2
}
