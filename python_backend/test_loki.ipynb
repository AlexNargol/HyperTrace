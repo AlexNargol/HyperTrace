{
 "cells": [
  {
   "cell_type": "code",
   "execution_count": 1,
   "metadata": {},
   "outputs": [],
   "source": [
    "from loki_logger_handler.loki_logger_handler import LokiLoggerHandler\n",
    "import logging\n",
    "import os \n",
    "\n",
    "# Set up logging\n",
    "logger = logging.getLogger(\"custom_logger\")\n",
    "logger.setLevel(logging.DEBUG)\n",
    "\n",
    "# Create an instance of the custom handler\n",
    "custom_handler = LokiLoggerHandler(\n",
    "    url=\"http://127.0.0.1:3100/loki/api/v1/push\",\n",
    "    labels={\"application\": \"Test\", \"environment\": \"Develop\"},\n",
    "    label_keys={},\n",
    "    timeout=10,\n",
    ")\n",
    "# Create an instance of the custom handler\n",
    "\n",
    "logger.addHandler(custom_handler)\n",
    "logger.debug(\"Debug message\", extra={'custom_field': 'custom_value'})"
   ]
  },
  {
   "cell_type": "code",
   "execution_count": 2,
   "metadata": {},
   "outputs": [],
   "source": [
    "logger.info(\"Info message\", extra={'custom_field': 'custom_value'})"
   ]
  },
  {
   "cell_type": "code",
   "execution_count": 3,
   "metadata": {},
   "outputs": [],
   "source": [
    "logger.warning(\"Warning message\", extra={'custom_field': 'custom_value'})"
   ]
  },
  {
   "cell_type": "code",
   "execution_count": 4,
   "metadata": {},
   "outputs": [],
   "source": [
    "def init_logger():\n",
    "    # set up logging\n",
    "    logger = logging.getLogger(\"custom_logger\")\n",
    "    logger.setLevel(logging.DEBUG)\n",
    "\n",
    "    # create an instance of the custom handler\n",
    "    custom_handler = LokiLoggerHandler(\n",
    "        url=\"http://127.0.0.1:3100/loki/api/v1/push\",\n",
    "        labels={\"application\": \"Test\", \"environment\": \"Develop\"},\n",
    "        label_keys={},\n",
    "        timeout=10,\n",
    "    )\n",
    "    # create an instance of the custom handler\n",
    "\n",
    "    logger.addHandler(custom_handler)\n",
    "\n",
    "init_logger()"
   ]
  },
  {
   "cell_type": "code",
   "execution_count": 5,
   "metadata": {},
   "outputs": [],
   "source": [
    "logger.info(\"Info message\", extra={'custom_field': 'custom_value'})"
   ]
  },
  {
   "cell_type": "code",
   "execution_count": 1,
   "metadata": {},
   "outputs": [],
   "source": [
    "test = {'freeMemory': 19613557000.0, 'usedMemory': 13960106000.0, 'totalMemory': 33573663000.0}"
   ]
  },
  {
   "cell_type": "code",
   "execution_count": 5,
   "metadata": {},
   "outputs": [
    {
     "data": {
      "text/plain": [
       "{'freeMemory': 19613557000.0,\n",
       " 'usedMemory': 13960106000.0,\n",
       " 'totalMemory': 33573663000.0,\n",
       " 'time': '12:25:32'}"
      ]
     },
     "execution_count": 5,
     "metadata": {},
     "output_type": "execute_result"
    }
   ],
   "source": [
    "import time\n",
    "\n",
    "t = time.localtime()\n",
    "current_time = time.strftime(\"%H:%M:%S\", t)\n",
    "\n",
    "test['time'] = current_time\n",
    "\n",
    "test"
   ]
  },
  {
   "cell_type": "code",
   "execution_count": null,
   "metadata": {},
   "outputs": [],
   "source": []
  }
 ],
 "metadata": {
  "kernelspec": {
   "display_name": ".venv",
   "language": "python",
   "name": "python3"
  },
  "language_info": {
   "codemirror_mode": {
    "name": "ipython",
    "version": 3
   },
   "file_extension": ".py",
   "mimetype": "text/x-python",
   "name": "python",
   "nbconvert_exporter": "python",
   "pygments_lexer": "ipython3",
   "version": "3.12.3"
  }
 },
 "nbformat": 4,
 "nbformat_minor": 2
}
