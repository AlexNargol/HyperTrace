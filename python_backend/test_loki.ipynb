{
 "cells": [
  {
   "cell_type": "code",
   "execution_count": 9,
   "metadata": {},
   "outputs": [],
   "source": [
    "from loki_logger_handler.loki_logger_handler import LokiLoggerHandler\n",
    "import logging\n",
    "import os \n",
    "\n",
    "# Set up logging\n",
    "logger = logging.getLogger(\"custom_logger\")\n",
    "logger.setLevel(logging.DEBUG)\n",
    "\n",
    "# Create an instance of the custom handler\n",
    "custom_handler = LokiLoggerHandler(\n",
    "    url=\"http://127.0.0.1:3100/loki/api/v1/push\",\n",
    "    labels={\"application\": \"Test\", \"environment\": \"Develop\"},\n",
    "    label_keys={},\n",
    "    timeout=10,\n",
    ")\n",
    "# Create an instance of the custom handler\n",
    "\n",
    "logger.addHandler(custom_handler)\n",
    "logger.debug(\"Debug message\", extra={'custom_field': 'custom_value'})"
   ]
  },
  {
   "cell_type": "code",
   "execution_count": 11,
   "metadata": {},
   "outputs": [],
   "source": [
    "logger.info(\"Info message\", extra={'custom_field': 'custom_value'})"
   ]
  },
  {
   "cell_type": "code",
   "execution_count": 12,
   "metadata": {},
   "outputs": [],
   "source": [
    "logger.warning(\"Warning message\", extra={'custom_field': 'custom_value'})"
   ]
  },
  {
   "cell_type": "code",
   "execution_count": null,
   "metadata": {},
   "outputs": [],
   "source": []
  }
 ],
 "metadata": {
  "kernelspec": {
   "display_name": ".venv",
   "language": "python",
   "name": "python3"
  },
  "language_info": {
   "codemirror_mode": {
    "name": "ipython",
    "version": 3
   },
   "file_extension": ".py",
   "mimetype": "text/x-python",
   "name": "python",
   "nbconvert_exporter": "python",
   "pygments_lexer": "ipython3",
   "version": "3.12.3"
  }
 },
 "nbformat": 4,
 "nbformat_minor": 2
}
